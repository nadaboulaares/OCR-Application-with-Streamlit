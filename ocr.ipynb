{
  "nbformat": 4,
  "nbformat_minor": 0,
  "metadata": {
    "colab": {
      "provenance": [],
      "gpuType": "T4"
    },
    "kernelspec": {
      "name": "python3",
      "display_name": "Python 3"
    },
    "language_info": {
      "name": "python"
    },
    "accelerator": "GPU"
  },
  "cells": [
    {
      "cell_type": "code",
      "source": [
        "!pip install easyocr\n"
      ],
      "metadata": {
        "colab": {
          "base_uri": "https://localhost:8080/"
        },
        "id": "zb8TMTAoPlom",
        "outputId": "d09447ba-6842-466a-b31a-7159e2840b54"
      },
      "execution_count": 5,
      "outputs": [
        {
          "output_type": "stream",
          "name": "stdout",
          "text": [
            "Requirement already satisfied: easyocr in /usr/local/lib/python3.10/dist-packages (1.7.1)\n",
            "Requirement already satisfied: torch in /usr/local/lib/python3.10/dist-packages (from easyocr) (2.1.0+cu121)\n",
            "Requirement already satisfied: torchvision>=0.5 in /usr/local/lib/python3.10/dist-packages (from easyocr) (0.16.0+cu121)\n",
            "Requirement already satisfied: opencv-python-headless in /usr/local/lib/python3.10/dist-packages (from easyocr) (4.9.0.80)\n",
            "Requirement already satisfied: scipy in /usr/local/lib/python3.10/dist-packages (from easyocr) (1.11.4)\n",
            "Requirement already satisfied: numpy in /usr/local/lib/python3.10/dist-packages (from easyocr) (1.25.2)\n",
            "Requirement already satisfied: Pillow in /usr/local/lib/python3.10/dist-packages (from easyocr) (9.4.0)\n",
            "Requirement already satisfied: scikit-image in /usr/local/lib/python3.10/dist-packages (from easyocr) (0.19.3)\n",
            "Requirement already satisfied: python-bidi in /usr/local/lib/python3.10/dist-packages (from easyocr) (0.4.2)\n",
            "Requirement already satisfied: PyYAML in /usr/local/lib/python3.10/dist-packages (from easyocr) (6.0.1)\n",
            "Requirement already satisfied: Shapely in /usr/local/lib/python3.10/dist-packages (from easyocr) (2.0.3)\n",
            "Requirement already satisfied: pyclipper in /usr/local/lib/python3.10/dist-packages (from easyocr) (1.3.0.post5)\n",
            "Requirement already satisfied: ninja in /usr/local/lib/python3.10/dist-packages (from easyocr) (1.11.1.1)\n",
            "Requirement already satisfied: requests in /usr/local/lib/python3.10/dist-packages (from torchvision>=0.5->easyocr) (2.31.0)\n",
            "Requirement already satisfied: filelock in /usr/local/lib/python3.10/dist-packages (from torch->easyocr) (3.13.1)\n",
            "Requirement already satisfied: typing-extensions in /usr/local/lib/python3.10/dist-packages (from torch->easyocr) (4.9.0)\n",
            "Requirement already satisfied: sympy in /usr/local/lib/python3.10/dist-packages (from torch->easyocr) (1.12)\n",
            "Requirement already satisfied: networkx in /usr/local/lib/python3.10/dist-packages (from torch->easyocr) (3.2.1)\n",
            "Requirement already satisfied: jinja2 in /usr/local/lib/python3.10/dist-packages (from torch->easyocr) (3.1.3)\n",
            "Requirement already satisfied: fsspec in /usr/local/lib/python3.10/dist-packages (from torch->easyocr) (2023.6.0)\n",
            "Requirement already satisfied: triton==2.1.0 in /usr/local/lib/python3.10/dist-packages (from torch->easyocr) (2.1.0)\n",
            "Requirement already satisfied: six in /usr/local/lib/python3.10/dist-packages (from python-bidi->easyocr) (1.16.0)\n",
            "Requirement already satisfied: imageio>=2.4.1 in /usr/local/lib/python3.10/dist-packages (from scikit-image->easyocr) (2.31.6)\n",
            "Requirement already satisfied: tifffile>=2019.7.26 in /usr/local/lib/python3.10/dist-packages (from scikit-image->easyocr) (2024.2.12)\n",
            "Requirement already satisfied: PyWavelets>=1.1.1 in /usr/local/lib/python3.10/dist-packages (from scikit-image->easyocr) (1.5.0)\n",
            "Requirement already satisfied: packaging>=20.0 in /usr/local/lib/python3.10/dist-packages (from scikit-image->easyocr) (23.2)\n",
            "Requirement already satisfied: MarkupSafe>=2.0 in /usr/local/lib/python3.10/dist-packages (from jinja2->torch->easyocr) (2.1.5)\n",
            "Requirement already satisfied: charset-normalizer<4,>=2 in /usr/local/lib/python3.10/dist-packages (from requests->torchvision>=0.5->easyocr) (3.3.2)\n",
            "Requirement already satisfied: idna<4,>=2.5 in /usr/local/lib/python3.10/dist-packages (from requests->torchvision>=0.5->easyocr) (3.6)\n",
            "Requirement already satisfied: urllib3<3,>=1.21.1 in /usr/local/lib/python3.10/dist-packages (from requests->torchvision>=0.5->easyocr) (2.0.7)\n",
            "Requirement already satisfied: certifi>=2017.4.17 in /usr/local/lib/python3.10/dist-packages (from requests->torchvision>=0.5->easyocr) (2024.2.2)\n",
            "Requirement already satisfied: mpmath>=0.19 in /usr/local/lib/python3.10/dist-packages (from sympy->torch->easyocr) (1.3.0)\n"
          ]
        }
      ]
    },
    {
      "cell_type": "code",
      "source": [
        "import os\n",
        "import numpy as np\n",
        "import easyocr\n",
        "from PIL import Image\n"
      ],
      "metadata": {
        "id": "SvZ20OGU2PHa"
      },
      "execution_count": 7,
      "outputs": []
    },
    {
      "cell_type": "code",
      "source": [
        "# Set the TESSDATA_PREFIX environment variable\n",
        "os.environ['TESSDATA_PREFIX'] = '/usr/share/tesseract-ocr/4.00/tessdata'\n"
      ],
      "metadata": {
        "id": "RZ-MeUYm2VcY"
      },
      "execution_count": 8,
      "outputs": []
    },
    {
      "cell_type": "code",
      "source": [
        "# Function to convert images to JPEG format\n",
        "def convert_to_jpg(image_path):\n",
        "    try:\n",
        "        # Open the image using PIL (Python Imaging Library)\n",
        "        image = Image.open(image_path)\n",
        "\n",
        "        # Convert the image to JPEG format\n",
        "        image_jpg_path = os.path.splitext(image_path)[0] + '.jpg'\n",
        "        image.save(image_jpg_path, 'JPEG')\n",
        "\n",
        "        return image_jpg_path\n",
        "    except Exception as e:\n",
        "        print(f\"Error converting image to JPEG: {e}\")\n",
        "        return None"
      ],
      "metadata": {
        "id": "A1Au0IjZ2TJY"
      },
      "execution_count": 9,
      "outputs": []
    },
    {
      "cell_type": "code",
      "source": [
        "# Function to perform OCR on the scanned document images\n",
        "def perform_ocr(image_np, language='ar'):\n",
        "    try:\n",
        "        # Perform OCR using EasyOCR\n",
        "        reader = easyocr.Reader([language])\n",
        "        result = reader.readtext(image_np)\n",
        "\n",
        "        # Extract text from the OCR result\n",
        "        extracted_text = ' '.join([text[1] for text in result])\n",
        "\n",
        "        return extracted_text\n",
        "    except Exception as e:\n",
        "        print(f\"Error performing OCR: {e}\")\n",
        "        return None"
      ],
      "metadata": {
        "id": "iDWq3H332YDH"
      },
      "execution_count": 10,
      "outputs": []
    },
    {
      "cell_type": "code",
      "source": [
        "\n",
        "\n",
        "\n",
        "\n",
        "\n",
        "\n",
        "# Function to preprocess the extracted text\n",
        "def preprocess_text(text):\n",
        "    # Implement any necessary preprocessing steps here\n",
        "    # For simplicity, we'll skip preprocessing in this example.\n",
        "    return text\n",
        "\n",
        "# Function to extract key features from the preprocessed text\n",
        "def extract_features(text):\n",
        "    # Implement feature extraction here\n",
        "    # For simplicity, we'll skip feature extraction in this example.\n",
        "    return {\"Type de Document\": \"Contrat\", \"Dates\": \"12 février 2022\", \"Parties Impliquées\": [\"A\", \"B\"],\n",
        "            \"Termes Clés\": [\"Contrat\", \"Allégations\"], \"Éléments d'Action\": \"Dates d'audience\"}\n",
        "\n",
        "\n",
        "\n",
        "\n"
      ],
      "metadata": {
        "id": "gEXZVfHwdykR"
      },
      "execution_count": 11,
      "outputs": []
    },
    {
      "cell_type": "code",
      "source": [
        "# Function to process a single image\n",
        "def process_image(image_path):\n",
        "    try:\n",
        "        # Convert image to JPEG format\n",
        "        image_path = convert_to_jpg(image_path)\n",
        "        if image_path is None:\n",
        "            return\n",
        "\n",
        "        # Open the image using PIL (Python Imaging Library)\n",
        "        image = Image.open(image_path)\n",
        "\n",
        "        # Convert PIL image to numpy array\n",
        "        image_np = np.array(image)\n",
        "\n",
        "        # Perform OCR on the image\n",
        "        extracted_text = perform_ocr(image_np)\n",
        "\n",
        "        if extracted_text:\n",
        "            # Print the extracted text\n",
        "            print(\"Extracted Text from\", image_path)\n",
        "            print(extracted_text)\n",
        "\n",
        "            # Preprocess the extracted text\n",
        "            preprocessed_text = preprocess_text(extracted_text)\n",
        "\n",
        "            # Extract features from the preprocessed text\n",
        "            extracted_features = extract_features(preprocessed_text)\n",
        "\n",
        "            # Display the extracted features\n",
        "            print(\"Extracted Features from\", image_path)\n",
        "            print(extracted_features)\n",
        "    except Exception as e:\n",
        "        print(f\"Error processing image: {e}\")"
      ],
      "metadata": {
        "id": "k5thTquK2dqL"
      },
      "execution_count": 12,
      "outputs": []
    },
    {
      "cell_type": "code",
      "source": [
        "# Function to process all images in the specified folder\n",
        "def process_images_in_folder(images_folder):\n",
        "    try:\n",
        "        for filename in os.listdir(images_folder):\n",
        "            if filename.endswith((\".png\", \".webp\")):  # Check for .png and .webp extensions\n",
        "                image_path = os.path.join(images_folder, filename)\n",
        "                process_image(image_path)\n",
        "    except Exception as e:\n",
        "        print(f\"Error processing images in folder: {e}\")\n"
      ],
      "metadata": {
        "id": "90eGN6EC1T47"
      },
      "execution_count": 13,
      "outputs": []
    },
    {
      "cell_type": "code",
      "source": [
        "# Main function\n",
        "def main():\n",
        "    try:\n",
        "        # Directory containing the scanned document images\n",
        "        images_folder = '/content/drive/MyDrive/projet'\n",
        "\n",
        "        # Process all images in the folder\n",
        "        process_images_in_folder(images_folder)\n",
        "    except Exception as e:\n",
        "        print(f\"Error in main function: {e}\")\n",
        "\n",
        "if __name__ == \"__main__\":\n",
        "    main()\n"
      ],
      "metadata": {
        "colab": {
          "base_uri": "https://localhost:8080/"
        },
        "id": "hzRCWa7-2kRs",
        "outputId": "309466bb-005e-40ef-fb2b-58090f920bbe"
      },
      "execution_count": 14,
      "outputs": [
        {
          "output_type": "stream",
          "name": "stdout",
          "text": [
            "Extracted Text from /content/drive/MyDrive/projet/image 2.jpg\n",
            "دد النبابة ع 2008/200. الجمه ورية التونسية بطاق وزارة العدل وحقوق الإنسان اعكمة الابتدانية بالمهديسة تضى القانون الإبتدائية بالمهدي وكيل الجمهورية لسدى المحكم عملا بالفصول 59و60و115من قانون المرافعات الجنائية : متوظفى أوأعوان القوة العامة بأن (2) ي ودعسوا نأمر ونأذن قسومة بن عمار بن حسين محمد الصالح ن الجناى الإمتثال المولود في: 1957/2/16 المهدية القاطن: اولاد مولاهم الزعيرات مخالفة قرار المراقبة الادارية المتهم ق ج ان ارتكاب ما ذكر ينطق عليه القانون طبق الفصل التشويش بما تقتضيه هاته البطاقة كما نطلب من سائر رؤساء القوة العامة أن يحققوا إجراء ناحية بالمهدية في2008/5 كي للمحاكم السج  سانر للقانود السواسى 150من حبث العمل السوا راسى حرر\n",
            "Extracted Features from /content/drive/MyDrive/projet/image 2.jpg\n",
            "{'Type de Document': 'Contrat', 'Dates': '12 février 2022', 'Parties Impliquées': ['A', 'B'], 'Termes Clés': ['Contrat', 'Allégations'], \"Éléments d'Action\": \"Dates d'audience\"}\n",
            "Extracted Text from /content/drive/MyDrive/projet/IMAGE 4.jpg\n",
            "دعده الحمد لله مكتب الاستاد عبد الرووى العبادى المحامى لدى الىعفيب سارل دىمول توىس 71 327 816 المام : -قاطن ب34 الىبابة عن : ممتوق ىن عبد 4267 الممبه  تونس 4 ن29 الوطنى فيس مىصور رنيس مركر المشنكى به تونسر بالعفب جناب السيد وكيل الجمهوربه محكمة نوىس الابتدائي دى م559 موطف شكوى وى نجاوز حد السلطه الوافع الموصوع ماى نوم للحصور تلفى المنوب أستدعاء من مركر العرس الوطمى بالعمبة حمت الحارى 2007 ناحره ولكما بدعوى به مربا وحبث بحضور المئوب بالمركر المذكور ائهال عليه المستكى من مما رززه ما البسرى وهوما تسبب له 9ي تربف دموى الموعد اسار علبه , والدى الهادى الرايس يتونس بتاريح الاعتداء مقمد طبمب المحه العمومية طرف عددا ) براحه لمدة عسرة أيام ( ونيقة حكام المصل 101 من المجله الجرانيه وحمث اقنضت وبحطية فدرها مانة وعشرون دبنارا الموظف الممومى او د٠١٨ ٥ مدة يعافب بالسعن على الناس حال مباشربه موح دون بالمئم بواسطه الاعتداء ىقسه برىكب ذممه بمتاسبه مباسرىها لوطبمته ولهاته الاسباب من عن عداله الحناب الإذن بهح تحميق فى الموضوع واحاله المشتكى نس المه . العيسادي  آومسر 1000 ود . نج سارل 98.317,192 7?7 815 لوانف دنمه السرة ع2,2  الحرس بعبده الممروب ٤ما اعدا الدد ات مف\n",
            "Extracted Features from /content/drive/MyDrive/projet/IMAGE 4.jpg\n",
            "{'Type de Document': 'Contrat', 'Dates': '12 février 2022', 'Parties Impliquées': ['A', 'B'], 'Termes Clés': ['Contrat', 'Allégations'], \"Éléments d'Action\": \"Dates d'audience\"}\n",
            "Extracted Text from /content/drive/MyDrive/projet/IMAGE 5.jpg\n",
            "دد النبابة ع 2008/200. الجمه ورية التونسية بطاق وزارة العدل وحقوق الإنسان اعكمة الابتدانية بالمهديسة تضى القانون الإبتدائية بالمهدي وكيل الجمهورية لسدى المحكم عملا بالفصول 59و60و115من قانون المرافعات الجنائية : متوظفى أوأعوان القوة العامة بأن (2) ي ودعسوا نأمر ونأذن قسومة بن عمار بن حسين محمد الصالح ن الجناى الإمتثال المولود في: 1957/2/16 المهدية القاطن: اولاد مولاهم الزعيرات مخالفة قرار المراقبة الادارية المتهم ق ج ان ارتكاب ما ذكر ينطق عليه القانون طبق الفصل التشويش بما تقتضيه هاته البطاقة كما نطلب من سائر رؤساء القوة العامة أن يحققوا إجراء ناحية بالمهدية في2008/5 كي للمحاكم السج  سانر للقانود السواسى 150من حبث العمل السوا راسى حرر\n",
            "Extracted Features from /content/drive/MyDrive/projet/IMAGE 5.jpg\n",
            "{'Type de Document': 'Contrat', 'Dates': '12 février 2022', 'Parties Impliquées': ['A', 'B'], 'Termes Clés': ['Contrat', 'Allégations'], \"Éléments d'Action\": \"Dates d'audience\"}\n"
          ]
        }
      ]
    },
    {
      "cell_type": "code",
      "source": [],
      "metadata": {
        "id": "zbLryema4OUC"
      },
      "execution_count": 14,
      "outputs": []
    }
  ]
}